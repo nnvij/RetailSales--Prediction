{
 "cells": [
  {
   "cell_type": "markdown",
   "id": "5ef2d2ee",
   "metadata": {},
   "source": [
    "<center>\n",
    "  <h1 align=\"center\"> Retail Sales Prediction </h1>\n",
    "</center>"
   ]
  },
  {
   "cell_type": "markdown",
   "id": "f1f1f3bf",
   "metadata": {},
   "source": [
    "- This dataset comprises of purchase transactions captured at a retail store. \n",
    "- The dataset has 550,069 rows and 12 columns.\n",
    "\n",
    "Problem Statement:Build a model to predict the purchase amount of customer against various products "
   ]
  },
  {
   "cell_type": "markdown",
   "id": "1bdc3f06",
   "metadata": {},
   "source": [
    "## Attributes:\n",
    "| Column ID |         Column Name        | Data type |           Description           | Masked |\n",
    "|:---------:|:--------------------------:|:---------:|:-------------------------------:|--------|\n",
    "|     0     |           User_ID          |   int64   |      Unique Id of customer      | False  |\n",
    "|     1     |         Product_ID         |   object  |       Unique Id of product      | False  |\n",
    "|     2     |           Gender           |   object  |         Sex of customer         | False  |\n",
    "|     3     |             Age            |   object  |         Age of customer         | False  |\n",
    "|     4     |         Occupation         |   int64   |   Occupation code of customer   | True   |\n",
    "|     5     |        City_Category       |   object  |         City of customer        | True   |\n",
    "|     6     | Stay_In_Current_City_Years |   object  | Number of years of stay in city | False  |\n",
    "|     7     |       Marital_Status       |   int64   |    Marital status of customer   | False  |\n",
    "|     8     |     Product_Category_1     |   int64   |       Category of product       | True   |\n",
    "|     9     |     Product_Category_2     |  float64  |       Category of product       | True   |\n",
    "|     10    |     Product_Category_3     |  float64  |       Category of product       | True   |\n",
    "|     11    |          Purchase          |   int64   |         Purchase amount         | False  |"
   ]
  },
  {
   "cell_type": "code",
   "execution_count": null,
   "id": "bd1163ca",
   "metadata": {},
   "outputs": [],
   "source": [
    "import pandas as pd\n",
    "import numpy as np\n",
    "\n",
    "\n",
    "import plotly.offline as py\n",
    "import plotly.graph_objs as go\n",
    "py.init_notebook_mode(connected=True)\n",
    "import seaborn as sns\n",
    "sns.set(style=\"ticks\", color_codes=True)\n",
    "import plotly.express as px\n",
    "\n",
    "import matplotlib.pyplot as plt\n",
    "%matplotlib inline\n",
    "\n",
    "\n",
    "import warnings \n",
    "warnings.filterwarnings(\"ignore\")"
   ]
  },
  {
   "cell_type": "markdown",
   "id": "7c9f0716",
   "metadata": {},
   "source": [
    "### Loading data"
   ]
  },
  {
   "cell_type": "code",
   "execution_count": null,
   "id": "be5aca9a",
   "metadata": {
    "scrolled": true
   },
   "outputs": [],
   "source": [
    "df = pd.read_csv('/Purchaseprediction/train.csv')\n",
    "df.head()"
   ]
  },
  {
   "cell_type": "markdown",
   "id": "416fa660",
   "metadata": {},
   "source": [
    "## Exploratory Data Analysis"
   ]
  },
  {
   "cell_type": "code",
   "execution_count": null,
   "id": "baac579c",
   "metadata": {},
   "outputs": [],
   "source": [
    "def check_df(df, head=5):\n",
    "    print(\" SHAPE \".center(70,'#'))\n",
    "    print('Rows: {}'.format(df.shape[0]))\n",
    "    print('Columns: {}'.format(df.shape[1]))\n",
    "    print(\" TYPES \".center(70,'#'))\n",
    "    print(df.dtypes)\n",
    "    print(\" HEAD \".center(70,'#'))\n",
    "    print(df.head(head))\n",
    "    print(\" TAIL \".center(70,'#'))\n",
    "    print(df.tail(head))\n",
    "    print(\" Info \".center(70,'#'))\n",
    "    print(df.info())\n",
    "    print(\" UNIQUE VALUES \".center(70,'#'))\n",
    "    print(df.apply(lambda x: len(x.unique())))\n",
    "    print(\" MISSING VALUES \".center(70,'#'))\n",
    "    print(df.isnull().sum())\n",
    "    missing_percentage = df.isnull().sum() / df.shape[0] * 100\n",
    "    print(\" Missing value percentage \".center(70,'*'))\n",
    "    print('\\n',missing_percentage)\n",
    "   \n"
   ]
  },
  {
   "cell_type": "code",
   "execution_count": null,
   "id": "841c6f05",
   "metadata": {},
   "outputs": [],
   "source": [
    "check_df(df)"
   ]
  },
  {
   "cell_type": "markdown",
   "id": "2c7febb6",
   "metadata": {},
   "source": [
    "- We have 550068 purchase entries in the dataset with 12 features\n",
    "- There are 5891 users in the dataset and 3631 uique products\n",
    "- 31% of Product_Category_2 and 69% of Product_Category_3 has missing values."
   ]
  },
  {
   "cell_type": "code",
   "execution_count": null,
   "id": "ddc78e3a",
   "metadata": {},
   "outputs": [],
   "source": [
    "## Gender"
   ]
  },
  {
   "cell_type": "code",
   "execution_count": null,
   "id": "e6c613db",
   "metadata": {},
   "outputs": [],
   "source": [
    "df.head(5)"
   ]
  },
  {
   "cell_type": "code",
   "execution_count": null,
   "id": "b10ea391",
   "metadata": {
    "scrolled": true
   },
   "outputs": [],
   "source": [
    "fig = px.pie(df,names= df['Gender'],height=400,\\\n",
    "            title='Gender distribution ',\\\n",
    "             labels={'Gender':'Gender'})\n",
    "fig.show()"
   ]
  },
  {
   "cell_type": "markdown",
   "id": "fcad42cc",
   "metadata": {},
   "source": [
    "- More male users than female in the dataset"
   ]
  },
  {
   "cell_type": "code",
   "execution_count": null,
   "id": "597f5c45",
   "metadata": {},
   "outputs": [],
   "source": [
    "## Age"
   ]
  },
  {
   "cell_type": "code",
   "execution_count": null,
   "id": "eebeff23",
   "metadata": {},
   "outputs": [],
   "source": [
    "df['Age'].value_counts()"
   ]
  },
  {
   "cell_type": "code",
   "execution_count": null,
   "id": "3e86b2e4",
   "metadata": {},
   "outputs": [],
   "source": [
    "fig = px.pie(df,names= df['Age'],height=400,\\\n",
    "            title='Age distribution ',\\\n",
    "             labels={'Age':'Age'})\n",
    "fig.show()"
   ]
  },
  {
   "cell_type": "code",
   "execution_count": null,
   "id": "e080ab79",
   "metadata": {},
   "outputs": [],
   "source": [
    "## Occupation"
   ]
  },
  {
   "cell_type": "code",
   "execution_count": null,
   "id": "bf29034b",
   "metadata": {},
   "outputs": [],
   "source": [
    "fig = px.pie(df,names= df['Occupation'],height=400,\\\n",
    "            title='Occupation distribution ',\\\n",
    "             labels={'Occupation':'Occupation'})\n",
    "fig.show()"
   ]
  },
  {
   "cell_type": "code",
   "execution_count": null,
   "id": "3b58aafc",
   "metadata": {},
   "outputs": [],
   "source": [
    "df_occ_age= df.groupby(['Occupation','Age'], as_index=False).agg({'User_ID':'count'})\n",
    "df_occ_age"
   ]
  },
  {
   "cell_type": "code",
   "execution_count": null,
   "id": "793bafd8",
   "metadata": {
    "scrolled": true
   },
   "outputs": [],
   "source": [
    "top10=df_occ_age.sort_values(by='User_ID',ascending=False).head(10)\n",
    "top10"
   ]
  },
  {
   "cell_type": "code",
   "execution_count": null,
   "id": "9724de25",
   "metadata": {
    "scrolled": true
   },
   "outputs": [],
   "source": [
    "fig = px.bar(top10, x=top10['Occupation'], y=top10['User_ID'],color=top10['Age'], text_auto=True,height=600,width=800,\\\n",
    "             title='Top 10 Occupation and Age distribution by users ',\\\n",
    "             labels={'Age':'Age','Occupation':'Occupation','User_ID':'Count of Users'})\n",
    "fig.show()"
   ]
  },
  {
   "cell_type": "markdown",
   "id": "5281543e",
   "metadata": {},
   "source": [
    "- Highest number of users in the dataset belong to occupation category 4 and are in the age group of 18.25"
   ]
  },
  {
   "cell_type": "code",
   "execution_count": null,
   "id": "915d2a98",
   "metadata": {
    "scrolled": true
   },
   "outputs": [],
   "source": [
    "df_occ_gender= df.groupby(['Occupation','Gender'], as_index=False).agg({'User_ID':'count'})\n",
    "df_occ_gender.head(5)"
   ]
  },
  {
   "cell_type": "code",
   "execution_count": null,
   "id": "5245ade6",
   "metadata": {},
   "outputs": [],
   "source": [
    "top10=df_occ_gender.sort_values(by='User_ID',ascending=False).head(10)\n",
    "top10"
   ]
  },
  {
   "cell_type": "code",
   "execution_count": null,
   "id": "c082fa9e",
   "metadata": {
    "scrolled": true
   },
   "outputs": [],
   "source": [
    "fig = px.bar(top10, x=top10['Occupation'], y=top10['User_ID'],color=top10['Gender'], text_auto=True,height=500,width=700,\\\n",
    "             title='Top 10 Occupation and Gender distribution by users ',\\\n",
    "             labels={'Gender':'Gender','Occupation':'Occupation','User_ID':'Count of Users'})\n",
    "fig.show()"
   ]
  },
  {
   "cell_type": "markdown",
   "id": "53f38231",
   "metadata": {},
   "source": [
    "- Highest number of females work under the cooupation category 0 and male under category 4"
   ]
  },
  {
   "cell_type": "markdown",
   "id": "428b207e",
   "metadata": {},
   "source": [
    "### City_Category"
   ]
  },
  {
   "cell_type": "code",
   "execution_count": null,
   "id": "a520a337",
   "metadata": {},
   "outputs": [],
   "source": [
    "fig = px.pie(df,names= df['City_Category'],height=400,\\\n",
    "            title='City Category distribution ',\\\n",
    "             labels={'City_Category':'City Category'})\n",
    "fig.show()"
   ]
  },
  {
   "cell_type": "code",
   "execution_count": null,
   "id": "85b1f551",
   "metadata": {},
   "outputs": [],
   "source": [
    "df_age_city= df.groupby(['City_Category','Age'], as_index=False).agg({'User_ID':'count'})\n",
    "df_age_city.head(5)"
   ]
  },
  {
   "cell_type": "code",
   "execution_count": null,
   "id": "4c305d5d",
   "metadata": {},
   "outputs": [],
   "source": [
    "top10=df_age_city.sort_values(by='User_ID',ascending=False).head(10)\n",
    "top10"
   ]
  },
  {
   "cell_type": "code",
   "execution_count": null,
   "id": "c5ead4b7",
   "metadata": {},
   "outputs": [],
   "source": [
    "fig = px.bar(top10, x=top10['City_Category'], y=top10['User_ID'],color=top10['Age'], barmode='group',text_auto=True,height=500,width=500,\\\n",
    "             title='Top 10 City_Category and Age distribution by users ',\\\n",
    "             labels={'City_Category':'City_Category','Age':'Age','User_ID':'Count of Users'})\n",
    "fig.show()"
   ]
  },
  {
   "cell_type": "code",
   "execution_count": null,
   "id": "27f8e923",
   "metadata": {},
   "outputs": [],
   "source": [
    "### City_Category and Occupation"
   ]
  },
  {
   "cell_type": "code",
   "execution_count": null,
   "id": "0aeb6510",
   "metadata": {},
   "outputs": [],
   "source": [
    "df_city_occ= df.groupby(['City_Category','Occupation'], as_index=False).agg({'User_ID':'count'})\n",
    "df_city_occ.head(5)"
   ]
  },
  {
   "cell_type": "code",
   "execution_count": null,
   "id": "1cd1e059",
   "metadata": {},
   "outputs": [],
   "source": [
    "top10=df_city_occ.sort_values(by='User_ID',ascending=False).head(10)\n",
    "top10"
   ]
  },
  {
   "cell_type": "code",
   "execution_count": null,
   "id": "15436977",
   "metadata": {},
   "outputs": [],
   "source": [
    "fig = px.bar(top10, x=top10['City_Category'], y=top10['User_ID'],color=top10['Occupation'], barmode='group',text_auto=True,height=500,width=700,\\\n",
    "             title='Top 10 City_Category and Occupation distribution by users ',\\\n",
    "             labels={'City_Category':'City_Category','Occupation':'Occupation','User_ID':'Count of Users'})\n",
    "fig.show()"
   ]
  },
  {
   "cell_type": "markdown",
   "id": "48e8fced",
   "metadata": {},
   "source": [
    "### Stay_In_Current_City_Years"
   ]
  },
  {
   "cell_type": "code",
   "execution_count": null,
   "id": "58bc69c2",
   "metadata": {
    "scrolled": false
   },
   "outputs": [],
   "source": [
    "fig = px.pie(df,names= df['Stay_In_Current_City_Years'],height=400,\\\n",
    "            title='Stay_In_Current_City_Years distribution ',\\\n",
    "             labels={'Stay_In_Current_City_Years':'Stay_In_Current_City_Years'})\n",
    "fig.show()"
   ]
  },
  {
   "cell_type": "code",
   "execution_count": null,
   "id": "1a99f8e7",
   "metadata": {},
   "outputs": [],
   "source": []
  },
  {
   "cell_type": "markdown",
   "id": "b0169fe0",
   "metadata": {},
   "source": [
    "### Marital_Status"
   ]
  },
  {
   "cell_type": "code",
   "execution_count": null,
   "id": "36b4dd9d",
   "metadata": {},
   "outputs": [],
   "source": [
    "fig = px.pie(df,names= df['Marital_Status'],height=400,\\\n",
    "            title='Marital_Status distribution ',\\\n",
    "             labels={'Marital_Status':'Marital_Status'})\n",
    "fig.show()"
   ]
  },
  {
   "cell_type": "code",
   "execution_count": null,
   "id": "5f941978",
   "metadata": {},
   "outputs": [],
   "source": [
    "df_marital_age= df.groupby(['Marital_Status','Age'], as_index=False).agg({'User_ID':'count'})\n",
    "df_marital_age.head(5)"
   ]
  },
  {
   "cell_type": "code",
   "execution_count": null,
   "id": "81c0d835",
   "metadata": {},
   "outputs": [],
   "source": [
    "top10=df_marital_age.sort_values(by='User_ID',ascending=False).head(10)\n",
    "top10"
   ]
  },
  {
   "cell_type": "code",
   "execution_count": null,
   "id": "0c4a316d",
   "metadata": {},
   "outputs": [],
   "source": [
    "fig = px.bar(top10, x=top10['Marital_Status'], y=top10['User_ID'],color=top10['Age'], barmode='group',text_auto=True,height=500,width=700,\\\n",
    "             title='Top 10 User count by Marital_Status and Age ',\\\n",
    "             labels={'Age':'Age','Marital_Status':'Marital_Status','User_ID':'Count of Users'})\n",
    "fig.show()"
   ]
  },
  {
   "cell_type": "code",
   "execution_count": null,
   "id": "2e45ce7c",
   "metadata": {},
   "outputs": [],
   "source": []
  },
  {
   "cell_type": "code",
   "execution_count": null,
   "id": "d4c5ab15",
   "metadata": {},
   "outputs": [],
   "source": []
  },
  {
   "cell_type": "markdown",
   "id": "ef585004",
   "metadata": {},
   "source": [
    "### Product_Category_1"
   ]
  },
  {
   "cell_type": "code",
   "execution_count": null,
   "id": "98eef3dd",
   "metadata": {},
   "outputs": [],
   "source": [
    "df_pcat= df.groupby(['Product_Category_1'], as_index=False).agg({'User_ID':'count','Purchase':'sum'})\n",
    "df_pcat.head(5)"
   ]
  },
  {
   "cell_type": "code",
   "execution_count": null,
   "id": "868fcae3",
   "metadata": {
    "scrolled": true
   },
   "outputs": [],
   "source": [
    "df_pcat"
   ]
  },
  {
   "cell_type": "code",
   "execution_count": null,
   "id": "72575d4a",
   "metadata": {},
   "outputs": [],
   "source": [
    "top10=df_pcat.sort_values(by='Purchase',ascending=False).head(10)\n",
    "top10"
   ]
  },
  {
   "cell_type": "code",
   "execution_count": null,
   "id": "9a5d4365",
   "metadata": {},
   "outputs": [],
   "source": [
    "fig = px.bar(df_pcat, x=df_pcat['Product_Category_1'],y=df_pcat['Purchase'],text_auto=True,height=600,width=1000,\\\n",
    "             title=' Product_Category_1 Distribution over total purchase ',\\\n",
    "             labels={'Product_Category_1':'Product_Category 1'})\n",
    "fig.show()"
   ]
  },
  {
   "cell_type": "code",
   "execution_count": null,
   "id": "e51fffec",
   "metadata": {},
   "outputs": [],
   "source": []
  },
  {
   "cell_type": "code",
   "execution_count": null,
   "id": "2207756e",
   "metadata": {
    "scrolled": true
   },
   "outputs": [],
   "source": [
    "fig = px.bar(top10, x=top10['Product_Category_1'],y=top10['Purchase'], barmode='group',text_auto=True,height=500,width=700,\\\n",
    "             title='Top 10 Product_Category_1 Distribution over total purchase ',\\\n",
    "             labels={'Product_Category_1':'Product_Category 1'})\n",
    "fig.show()"
   ]
  },
  {
   "cell_type": "code",
   "execution_count": null,
   "id": "2e433a2e",
   "metadata": {},
   "outputs": [],
   "source": [
    "top10=df_pcat.sort_values(by='User_ID',ascending=False).head(10)\n",
    "top10"
   ]
  },
  {
   "cell_type": "code",
   "execution_count": null,
   "id": "e17727cb",
   "metadata": {},
   "outputs": [],
   "source": [
    "fig = px.bar(top10, x=top10['Product_Category_1'],y=top10['User_ID'], barmode='group',text_auto=True,height=500,width=700,\\\n",
    "             title='Top 10 Product_Category_1 Distribution over number of purchases ',\\\n",
    "             labels={'Product_Category_1':'Product_Category 1','User_ID':'Count of purchase'})\n",
    "fig.show()"
   ]
  },
  {
   "cell_type": "code",
   "execution_count": null,
   "id": "74b532e4",
   "metadata": {},
   "outputs": [],
   "source": [
    "- Product_category_1 : 1 has highest amount of total revenue in the dataset\n",
    "- Product_category_1 : 5 has highest amount of number of purchases in the dataset"
   ]
  },
  {
   "cell_type": "markdown",
   "id": "536dffe6",
   "metadata": {},
   "source": [
    "### Purchase"
   ]
  },
  {
   "cell_type": "code",
   "execution_count": null,
   "id": "edbfbd56",
   "metadata": {},
   "outputs": [],
   "source": [
    "df.head(5)"
   ]
  },
  {
   "cell_type": "code",
   "execution_count": null,
   "id": "f59916e6",
   "metadata": {},
   "outputs": [],
   "source": [
    "##### Purchase vs Age"
   ]
  },
  {
   "cell_type": "code",
   "execution_count": null,
   "id": "eea6572a",
   "metadata": {},
   "outputs": [],
   "source": [
    "df_page= df.groupby(['Age'], as_index=False).agg({'User_ID':'count','Purchase':'sum'})\n",
    "df_page.head(5)"
   ]
  },
  {
   "cell_type": "code",
   "execution_count": null,
   "id": "3cc842d5",
   "metadata": {},
   "outputs": [],
   "source": [
    "fig = px.bar(df_page, x=df_page['Age'],y=df_page['Purchase'], barmode='group',text_auto=True,height=500,width=700,\\\n",
    "             title='Total Purchase across Age groups ',\\\n",
    "             labels={'Purchase':'Purchase','Age':'Age'})\n",
    "fig.show()"
   ]
  },
  {
   "cell_type": "code",
   "execution_count": null,
   "id": "eb65d7cc",
   "metadata": {},
   "outputs": [],
   "source": [
    "df_page_avg= df.groupby(['Age'], as_index=False).agg({'Purchase':'mean'})\n",
    "df_page_avg.head(5)"
   ]
  },
  {
   "cell_type": "code",
   "execution_count": null,
   "id": "3f705428",
   "metadata": {},
   "outputs": [],
   "source": [
    "fig = px.bar(df_page_avg, x=df_page_avg['Age'],y=df_page_avg['Purchase'], barmode='group',text_auto=True,height=500,width=700,\\\n",
    "             title='Average purchase amount based on Age',\\\n",
    "             labels={'Purchase':'Purchase','Age':'Age'})\n",
    "fig.show()"
   ]
  },
  {
   "cell_type": "code",
   "execution_count": null,
   "id": "26d07b92",
   "metadata": {},
   "outputs": [],
   "source": []
  },
  {
   "cell_type": "code",
   "execution_count": null,
   "id": "b14124a8",
   "metadata": {},
   "outputs": [],
   "source": [
    "##### Purchase vs Gender"
   ]
  },
  {
   "cell_type": "code",
   "execution_count": null,
   "id": "6e198163",
   "metadata": {},
   "outputs": [],
   "source": [
    "df_pgender= df.groupby(['Gender'], as_index=False).agg({'User_ID':'count','Purchase':'sum'})\n",
    "df_pgender.head(5)"
   ]
  },
  {
   "cell_type": "code",
   "execution_count": null,
   "id": "82b27454",
   "metadata": {},
   "outputs": [],
   "source": [
    "fig = px.bar(df_pgender, x=df_pgender['Gender'],y=df_pgender['Purchase'], barmode='group',text_auto=True,height=500,width=700,\\\n",
    "             title='Purchase and Gender ',\\\n",
    "             labels={'Purchase':'Purchase','Gender':'Gender'})\n",
    "fig.show()"
   ]
  },
  {
   "cell_type": "code",
   "execution_count": null,
   "id": "0781e798",
   "metadata": {},
   "outputs": [],
   "source": [
    "df_pgender_avg= df.groupby(['Gender'], as_index=False).agg({'Purchase':'mean'})\n",
    "df_pgender_avg.head(5)"
   ]
  },
  {
   "cell_type": "code",
   "execution_count": null,
   "id": "00092890",
   "metadata": {},
   "outputs": [],
   "source": [
    "fig = px.bar(df_pgender_avg, x=df_pgender_avg['Gender'],y=df_pgender_avg['Purchase'], barmode='group',text_auto=True,height=500,width=700,\\\n",
    "             title='Average purchase amount based on Gender',\\\n",
    "             labels={'Purchase':'Purchase','Gender':'Gender'})\n",
    "fig.show()"
   ]
  },
  {
   "cell_type": "code",
   "execution_count": null,
   "id": "0835f83a",
   "metadata": {},
   "outputs": [],
   "source": [
    "##### Purchase vs Occupation"
   ]
  },
  {
   "cell_type": "code",
   "execution_count": null,
   "id": "ae5cf6a7",
   "metadata": {},
   "outputs": [],
   "source": [
    "df_pocc= df.groupby(['Occupation'], as_index=False).agg({'User_ID':'count','Purchase':'sum'})\n",
    "df_pocc.head(5)"
   ]
  },
  {
   "cell_type": "code",
   "execution_count": null,
   "id": "6589adc9",
   "metadata": {},
   "outputs": [],
   "source": [
    "fig = px.bar(df_pocc, x=df_pocc['Occupation'],y=df_pocc['Purchase'], barmode='group',text_auto=True,height=500,width=700,\\\n",
    "             title='Purchase and Occupation ',\\\n",
    "             labels={'Purchase':'Purchase','Occupation':'Occupation'})\n",
    "fig.show()"
   ]
  },
  {
   "cell_type": "code",
   "execution_count": null,
   "id": "a85f6465",
   "metadata": {},
   "outputs": [],
   "source": [
    "df_pocc_avg= df.groupby(['Occupation'], as_index=False).agg({'User_ID':'count','Purchase':'mean'})\n",
    "df_pocc_avg.head(5)"
   ]
  },
  {
   "cell_type": "code",
   "execution_count": null,
   "id": "ae30733a",
   "metadata": {
    "scrolled": true
   },
   "outputs": [],
   "source": [
    "fig = px.bar(df_pocc_avg, x=df_pocc_avg['Occupation'],y=df_pocc_avg['Purchase'], barmode='group',text_auto=True,height=500,width=700,\\\n",
    "             title='Average purchase amount based on Occupation',\\\n",
    "             labels={'Purchase':'Purchase','Occupation':'Occupation'})\n",
    "fig.show()"
   ]
  },
  {
   "cell_type": "code",
   "execution_count": null,
   "id": "13487507",
   "metadata": {},
   "outputs": [],
   "source": [
    "## Stay in the city vs Purchase"
   ]
  },
  {
   "cell_type": "code",
   "execution_count": null,
   "id": "bdefd69c",
   "metadata": {},
   "outputs": [],
   "source": [
    "df_stay= df.groupby(['Stay_In_Current_City_Years'], as_index=False).agg({'User_ID':'count','Purchase':'sum'})\n",
    "df_stay.head(5)"
   ]
  },
  {
   "cell_type": "code",
   "execution_count": null,
   "id": "0cbc9a1a",
   "metadata": {},
   "outputs": [],
   "source": [
    "fig = px.bar(df_stay, x=df_stay['Stay_In_Current_City_Years'],y=df_stay['Purchase'], barmode='group',text_auto=True,height=500,width=700,\\\n",
    "             title='Stay_In_Current_City_Years and Purchase ',\\\n",
    "             labels={'Purchase':'Purchase','Stay_In_Current_City_Years':'Stay_In_Current_City_Years'})\n",
    "fig.show()"
   ]
  },
  {
   "cell_type": "code",
   "execution_count": null,
   "id": "f0dcd043",
   "metadata": {},
   "outputs": [],
   "source": [
    "df_stay_avg= df.groupby(['Stay_In_Current_City_Years'], as_index=False).agg({'User_ID':'count','Purchase':'mean'})\n",
    "df_stay_avg.head(5)"
   ]
  },
  {
   "cell_type": "code",
   "execution_count": null,
   "id": "1bdb3841",
   "metadata": {},
   "outputs": [],
   "source": [
    "fig = px.bar(df_stay_avg, x=df_stay_avg['Stay_In_Current_City_Years'],y=df_stay_avg['Purchase'], barmode='group',text_auto=True,height=500,width=700,\\\n",
    "             title='Average purchase amount based on Stay_In_Current_City_Years',\\\n",
    "             labels={'Purchase':'Purchase','Stay_In_Current_City_Years':'Stay_In_Current_City_Years'})\n",
    "fig.show()"
   ]
  },
  {
   "cell_type": "code",
   "execution_count": null,
   "id": "543b4aed",
   "metadata": {},
   "outputs": [],
   "source": [
    "df['Purchase'].plot(kind='box');"
   ]
  },
  {
   "cell_type": "code",
   "execution_count": null,
   "id": "ad0b1c46",
   "metadata": {
    "scrolled": true
   },
   "outputs": [],
   "source": [
    "corr = df.corr()\n",
    "plt.figure(figsize=(14,7))\n",
    "sns.heatmap(corr, annot=True, cmap='coolwarm')"
   ]
  },
  {
   "cell_type": "markdown",
   "id": "0ca00917",
   "metadata": {},
   "source": [
    "- there is not very strong correlation between features. product_category1 and 2 seem to have a strong correlation\n",
    "- Occupation and Purchase have positive correlation "
   ]
  },
  {
   "cell_type": "code",
   "execution_count": null,
   "id": "85eb0342",
   "metadata": {},
   "outputs": [],
   "source": []
  }
 ],
 "metadata": {
  "kernelspec": {
   "display_name": "Python 3 (ipykernel)",
   "language": "python",
   "name": "python3"
  },
  "language_info": {
   "codemirror_mode": {
    "name": "ipython",
    "version": 3
   },
   "file_extension": ".py",
   "mimetype": "text/x-python",
   "name": "python",
   "nbconvert_exporter": "python",
   "pygments_lexer": "ipython3",
   "version": "3.9.7"
  }
 },
 "nbformat": 4,
 "nbformat_minor": 5
}
